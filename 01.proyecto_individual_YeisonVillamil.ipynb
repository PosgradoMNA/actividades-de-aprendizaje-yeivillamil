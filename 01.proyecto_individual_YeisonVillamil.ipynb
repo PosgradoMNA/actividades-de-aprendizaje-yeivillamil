{
 "cells": [
  {
   "cell_type": "markdown",
   "metadata": {},
   "source": [
    "# Proyectos individual Yeison Villamil"
   ]
  }
 ],
 "metadata": {
  "kernelspec": {
   "display_name": "Python 3.10.4 ('ml_projects')",
   "language": "python",
   "name": "python3"
  },
  "language_info": {
   "codemirror_mode": {
    "name": "ipython",
    "version": 3
   },
   "file_extension": ".py",
   "mimetype": "text/x-python",
   "name": "python",
   "nbconvert_exporter": "python",
   "pygments_lexer": "ipython3",
   "version": "3.10.4"
  },
  "orig_nbformat": 4,
  "vscode": {
   "interpreter": {
    "hash": "7830fdd6266474239bfd7de8190294ed8bdbfb59df3ffbae438fbb1179d117c0"
   }
  }
 },
 "nbformat": 4,
 "nbformat_minor": 2
}
